{
 "cells": [
  {
   "cell_type": "code",
   "execution_count": null,
   "metadata": {},
   "outputs": [
    {
     "name": "stdout",
     "output_type": "stream",
     "text": [
      "Collecting git+https://github.com/huggingface/transformersNote: you may need to restart the kernel to use updated packages.\n"
     ]
    },
    {
     "name": "stderr",
     "output_type": "stream",
     "text": [
      "  Running command git clone --filter=blob:none --quiet https://github.com/huggingface/transformers 'C:\\Users\\Riyad\\AppData\\Local\\Temp\\pip-req-build-xgit_qbq'\n"
     ]
    },
    {
     "name": "stdout",
     "output_type": "stream",
     "text": [
      "\n",
      "  Cloning https://github.com/huggingface/transformers to c:\\users\\riyad\\appdata\\local\\temp\\pip-req-build-xgit_qbq\n",
      "  Resolved https://github.com/huggingface/transformers to commit 50573c648ae953dcc1b94d663651f07fb02268f4\n",
      "  Installing build dependencies: started\n",
      "  Installing build dependencies: finished with status 'done'\n",
      "  Getting requirements to build wheel: started\n",
      "  Getting requirements to build wheel: finished with status 'done'\n",
      "  Preparing metadata (pyproject.toml): started\n",
      "  Preparing metadata (pyproject.toml): finished with status 'done'\n",
      "Requirement already satisfied: filelock in c:\\users\\riyad\\documents\\github\\hugging_face_audio_course\\.conda\\lib\\site-packages (from transformers==4.33.0.dev0) (3.12.2)\n",
      "Requirement already satisfied: huggingface-hub<1.0,>=0.15.1 in c:\\users\\riyad\\documents\\github\\hugging_face_audio_course\\.conda\\lib\\site-packages (from transformers==4.33.0.dev0) (0.16.4)\n",
      "Requirement already satisfied: numpy>=1.17 in c:\\users\\riyad\\documents\\github\\hugging_face_audio_course\\.conda\\lib\\site-packages (from transformers==4.33.0.dev0) (1.24.4)\n",
      "Requirement already satisfied: packaging>=20.0 in c:\\users\\riyad\\documents\\github\\hugging_face_audio_course\\.conda\\lib\\site-packages (from transformers==4.33.0.dev0) (23.1)\n",
      "Requirement already satisfied: pyyaml>=5.1 in c:\\users\\riyad\\documents\\github\\hugging_face_audio_course\\.conda\\lib\\site-packages (from transformers==4.33.0.dev0) (6.0.1)\n",
      "Requirement already satisfied: regex!=2019.12.17 in c:\\users\\riyad\\documents\\github\\hugging_face_audio_course\\.conda\\lib\\site-packages (from transformers==4.33.0.dev0) (2023.8.8)\n",
      "Requirement already satisfied: requests in c:\\users\\riyad\\documents\\github\\hugging_face_audio_course\\.conda\\lib\\site-packages (from transformers==4.33.0.dev0) (2.31.0)\n",
      "Requirement already satisfied: tokenizers!=0.11.3,<0.14,>=0.11.1 in c:\\users\\riyad\\documents\\github\\hugging_face_audio_course\\.conda\\lib\\site-packages (from transformers==4.33.0.dev0) (0.13.3)\n",
      "Requirement already satisfied: safetensors>=0.3.1 in c:\\users\\riyad\\documents\\github\\hugging_face_audio_course\\.conda\\lib\\site-packages (from transformers==4.33.0.dev0) (0.3.3)\n",
      "Requirement already satisfied: tqdm>=4.27 in c:\\users\\riyad\\documents\\github\\hugging_face_audio_course\\.conda\\lib\\site-packages (from transformers==4.33.0.dev0) (4.66.1)\n",
      "Requirement already satisfied: fsspec in c:\\users\\riyad\\documents\\github\\hugging_face_audio_course\\.conda\\lib\\site-packages (from huggingface-hub<1.0,>=0.15.1->transformers==4.33.0.dev0) (2023.6.0)\n",
      "Requirement already satisfied: typing-extensions>=3.7.4.3 in c:\\users\\riyad\\documents\\github\\hugging_face_audio_course\\.conda\\lib\\site-packages (from huggingface-hub<1.0,>=0.15.1->transformers==4.33.0.dev0) (4.7.1)\n",
      "Requirement already satisfied: colorama in c:\\users\\riyad\\appdata\\roaming\\python\\python310\\site-packages (from tqdm>=4.27->transformers==4.33.0.dev0) (0.4.6)\n",
      "Requirement already satisfied: charset-normalizer<4,>=2 in c:\\users\\riyad\\documents\\github\\hugging_face_audio_course\\.conda\\lib\\site-packages (from requests->transformers==4.33.0.dev0) (3.2.0)\n",
      "Requirement already satisfied: idna<4,>=2.5 in c:\\users\\riyad\\documents\\github\\hugging_face_audio_course\\.conda\\lib\\site-packages (from requests->transformers==4.33.0.dev0) (3.4)\n",
      "Requirement already satisfied: urllib3<3,>=1.21.1 in c:\\users\\riyad\\documents\\github\\hugging_face_audio_course\\.conda\\lib\\site-packages (from requests->transformers==4.33.0.dev0) (2.0.4)\n",
      "Requirement already satisfied: certifi>=2017.4.17 in c:\\users\\riyad\\documents\\github\\hugging_face_audio_course\\.conda\\lib\\site-packages (from requests->transformers==4.33.0.dev0) (2023.7.22)\n",
      "Building wheels for collected packages: transformers\n",
      "  Building wheel for transformers (pyproject.toml): started\n",
      "  Building wheel for transformers (pyproject.toml): finished with status 'done'\n",
      "  Created wheel for transformers: filename=transformers-4.33.0.dev0-py3-none-any.whl size=7588482 sha256=5ba26a4fb7f202fbab773a3fcb017a270185f3fdc9705e76f0a707cb9f4365ed\n",
      "  Stored in directory: C:\\Users\\Riyad\\AppData\\Local\\Temp\\pip-ephem-wheel-cache-hqe_v3y0\\wheels\\c0\\14\\d6\\6c9a5582d2ac191ec0a483be151a4495fe1eb2a6706ca49f1b\n",
      "Successfully built transformers\n",
      "Installing collected packages: transformers\n",
      "  Attempting uninstall: transformers\n",
      "    Found existing installation: transformers 4.32.0\n",
      "    Uninstalling transformers-4.32.0:\n",
      "      Successfully uninstalled transformers-4.32.0\n",
      "Successfully installed transformers-4.33.0.dev0\n"
     ]
    }
   ],
   "source": [
    "pip install git+https://github.com/huggingface/transformers"
   ]
  },
  {
   "cell_type": "code",
   "execution_count": 3,
   "metadata": {},
   "outputs": [],
   "source": [
    "from datasets import load_dataset\n",
    "\n",
    "minds = load_dataset(\"PolyAI/minds14\", name=\"en-AU\", split=\"train\")"
   ]
  },
  {
   "cell_type": "code",
   "execution_count": null,
   "metadata": {},
   "outputs": [],
   "source": [
    "from transformers import pipeline\n",
    "\n",
    "classifier = pipeline(\n",
    "    \"audio-classification\",\n",
    "    model=\"anton-l/xtreme_s_xlsr_300m_minds14\",\n",
    ")"
   ]
  },
  {
   "cell_type": "code",
   "execution_count": null,
   "metadata": {},
   "outputs": [],
   "source": [
    "classifier(minds[0][\"path\"])"
   ]
  },
  {
   "cell_type": "code",
   "execution_count": null,
   "metadata": {},
   "outputs": [],
   "source": [
    "speech_commands = load_dataset(\n",
    "    \"speech_commands\", \"v0.02\", split=\"validation\", streaming=True\n",
    ")\n",
    "\n",
    "sample = next(iter(speech_commands))"
   ]
  },
  {
   "cell_type": "code",
   "execution_count": null,
   "metadata": {},
   "outputs": [],
   "source": [
    "classifier = pipeline(\n",
    "    \"audio-classification\", model=\"MIT/ast-finetuned-speech-commands-v2\"\n",
    ")\n",
    "classifier(sample[\"audio\"])"
   ]
  },
  {
   "cell_type": "code",
   "execution_count": null,
   "metadata": {},
   "outputs": [],
   "source": [
    "from IPython.display import Audio\n",
    "\n",
    "classifier(sample[\"audio\"].copy())\n",
    "Audio(sample[\"audio\"][\"array\"], rate=sample[\"audio\"][\"sampling_rate\"])"
   ]
  },
  {
   "cell_type": "code",
   "execution_count": null,
   "metadata": {},
   "outputs": [],
   "source": [
    "fluers = load_dataset(\"google/fluers\", \"all\", split=\"validation\", streaming=True)\n",
    "sample = next(iter(fluers))"
   ]
  },
  {
   "cell_type": "code",
   "execution_count": null,
   "metadata": {},
   "outputs": [],
   "source": [
    "classifier = pipeline(\n",
    "    \"audio-classification\", model=\"sanchit-gandhi/whisper-medium-fleurs-land-id\"\n",
    ")"
   ]
  },
  {
   "cell_type": "code",
   "execution_count": null,
   "metadata": {},
   "outputs": [],
   "source": [
    "classifier(sample[\"audio\"])"
   ]
  },
  {
   "cell_type": "code",
   "execution_count": null,
   "metadata": {},
   "outputs": [],
   "source": [
    "dataset = load_dataset(\"ashraq/esc50\", split=\"train\", streaming=True)\n",
    "audio_sample = next(iter(dataset)[\"audio\"][\"array\"])"
   ]
  },
  {
   "cell_type": "code",
   "execution_count": null,
   "metadata": {},
   "outputs": [],
   "source": [
    "candidate_labels = [\"Sound of a dog\", \"Sound of a vaccuum cleaner\"]"
   ]
  },
  {
   "cell_type": "code",
   "execution_count": null,
   "metadata": {},
   "outputs": [],
   "source": [
    "classifier = pipeline(\n",
    "    task=\"zero-shot-audio-classification\", model=\"laion/clap-htsat-unfused\"\n",
    ")\n",
    "classifier(audio_sample, candidate_labels=candidate_labels)"
   ]
  },
  {
   "cell_type": "code",
   "execution_count": null,
   "metadata": {},
   "outputs": [],
   "source": [
    "Audio(audio_sample, rate=16_000)"
   ]
  }
 ],
 "metadata": {
  "kernelspec": {
   "display_name": "Python 3",
   "language": "python",
   "name": "python3"
  },
  "language_info": {
   "codemirror_mode": {
    "name": "ipython",
    "version": 3
   },
   "file_extension": ".py",
   "mimetype": "text/x-python",
   "name": "python",
   "nbconvert_exporter": "python",
   "pygments_lexer": "ipython3",
   "version": "3.11.4"
  },
  "orig_nbformat": 4
 },
 "nbformat": 4,
 "nbformat_minor": 2
}
